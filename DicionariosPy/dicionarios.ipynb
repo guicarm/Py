{
 "cells": [
  {
   "attachments": {},
   "cell_type": "markdown",
   "metadata": {},
   "source": [
    "#### Dicionário vazio"
   ]
  },
  {
   "cell_type": "code",
   "execution_count": 1,
   "metadata": {},
   "outputs": [
    {
     "name": "stdout",
     "output_type": "stream",
     "text": [
      "{}\n"
     ]
    }
   ],
   "source": [
    "dados = {}\n",
    "print(dados)"
   ]
  },
  {
   "attachments": {},
   "cell_type": "markdown",
   "metadata": {},
   "source": [
    "===========================================================================================\n",
    "#### Dicionário com valores iniciais"
   ]
  },
  {
   "cell_type": "code",
   "execution_count": 8,
   "metadata": {},
   "outputs": [
    {
     "name": "stdout",
     "output_type": "stream",
     "text": [
      "{'Nome:': 'Guizao', 'Idade:': 18}\n"
     ]
    }
   ],
   "source": [
    "dados = {\n",
    "    \"Nome:\" : \"Guizao\", \"Idade:\" :18\n",
    "}\n",
    "print(dados)"
   ]
  },
  {
   "attachments": {},
   "cell_type": "markdown",
   "metadata": {},
   "source": [
    "===========================================================================================\n",
    "#### Adicionando campos"
   ]
  },
  {
   "cell_type": "code",
   "execution_count": 9,
   "metadata": {},
   "outputs": [
    {
     "name": "stdout",
     "output_type": "stream",
     "text": [
      "{'Nome:': 'Guizao', 'Idade:': 18}\n",
      "{'Nome:': 'Guizao', 'Idade:': 18, 'RM: ': 98874}\n"
     ]
    }
   ],
   "source": [
    "print(dados)\n",
    "dados[\"RM: \"] = 98874\n",
    "print(dados)"
   ]
  },
  {
   "attachments": {},
   "cell_type": "markdown",
   "metadata": {},
   "source": [
    "#### Removendo campos"
   ]
  },
  {
   "cell_type": "code",
   "execution_count": 10,
   "metadata": {},
   "outputs": [
    {
     "name": "stdout",
     "output_type": "stream",
     "text": [
      "{'Nome:': 'Guizao', 'Idade:': 18, 'RM: ': 98874}\n",
      "{'Nome:': 'Guizao', 'Idade:': 18}\n"
     ]
    }
   ],
   "source": [
    "print(dados)\n",
    "del dados[\"RM: \"]\n",
    "print(dados)"
   ]
  },
  {
   "attachments": {},
   "cell_type": "markdown",
   "metadata": {},
   "source": [
    "===========================================================================================\n",
    "#### Exibindo keys e values"
   ]
  },
  {
   "cell_type": "code",
   "execution_count": 18,
   "metadata": {},
   "outputs": [
    {
     "name": "stdout",
     "output_type": "stream",
     "text": [
      "Nome.:, Guizao\n",
      "Idade:, 18\n",
      "RM...:, 98874\n"
     ]
    }
   ],
   "source": [
    "dados = {\n",
    "    \"Nome.:\" : \"Guizao\",\n",
    "    \"Idade:\" :18,\n",
    "    \"RM...:\" : 98874\n",
    "}\n",
    "for k, v in dados.items():\n",
    "    print(f\"{k} {v}\")\n"
   ]
  },
  {
   "attachments": {},
   "cell_type": "markdown",
   "metadata": {},
   "source": [
    "============================================================="
   ]
  },
  {
   "attachments": {},
   "cell_type": "markdown",
   "metadata": {},
   "source": [
    "### EXERCÍCIOS\n",
    "\n",
    "#### 1 - Exibir todo o conteúdo do dicionário"
   ]
  },
  {
   "cell_type": "code",
   "execution_count": null,
   "metadata": {},
   "outputs": [],
   "source": [
    "dic = { \n",
    "        \"Nome.....:\" : \"Lucas\",\n",
    "        \"Idade....:\" :19,\n",
    "        \"Cidade...:\" : \"Juquitiba\"\n",
    "    }"
   ]
  },
  {
   "cell_type": "code",
   "execution_count": 28,
   "metadata": {},
   "outputs": [
    {
     "name": "stdout",
     "output_type": "stream",
     "text": [
      "Nome.....: Lucas\n",
      "Idade....: 19\n",
      "Cidade...: Juquitiba\n"
     ]
    }
   ],
   "source": [
    "def exibir_cont(dic):\n",
    "    dic = { \n",
    "        \"Nome.....:\" : \"Lucas\",\n",
    "        \"Idade....:\" :19,\n",
    "        \"Cidade...:\" : \"Juquitiba\"\n",
    "    }\n",
    "    for k, v in dic.items():\n",
    "        print(f\"{k} {v}\")"
   ]
  },
  {
   "attachments": {},
   "cell_type": "markdown",
   "metadata": {},
   "source": [
    "#### 2 - Inserir um campo no dicionário"
   ]
  },
  {
   "cell_type": "code",
   "execution_count": 76,
   "metadata": {},
   "outputs": [
    {
     "name": "stdout",
     "output_type": "stream",
     "text": [
      "Novo campo '' inserido com sucesso!\n",
      "Dicionário atualizado:\n",
      "1 - Nome.....: Lucas\n",
      "2 - Idade....: 19\n",
      "3 - Cidade...: Juquitiba\n",
      " \n"
     ]
    }
   ],
   "source": [
    "dic = {\n",
    "        \"1 - Nome.....:\" : \"Lucas\",\n",
    "        \"2 - Idade....:\" : 19,\n",
    "        \"3 - Cidade...:\" : \"Juquitiba\"\n",
    "}\n",
    "\n",
    "def inserir_campo(dic):\n",
    "    novo_campo = input(\"Digite o nome do novo campo: \")\n",
    "    novo_valor = input(f\"Digite o valor para o campo '{novo_campo}': \")\n",
    "    dic[novo_campo] = novo_valor\n",
    "    print(f\"Novo campo '{novo_campo}' inserido com sucesso!\")\n",
    "\n",
    "inserir_campo(dic)\n",
    "print(\"Dicionário atualizado:\")\n",
    "for k, v in dic.items():\n",
    "    print(f\"{k} {v}\")\n"
   ]
  },
  {
   "attachments": {},
   "cell_type": "markdown",
   "metadata": {},
   "source": [
    "#### 3 - Alterar o valor de um campo"
   ]
  },
  {
   "cell_type": "code",
   "execution_count": null,
   "metadata": {},
   "outputs": [],
   "source": [
    "def altera_val(dic):\n",
    "    dic[\"Nome.....:\"] = input(\"Qual o novo nome?:\")"
   ]
  },
  {
   "attachments": {},
   "cell_type": "markdown",
   "metadata": {},
   "source": [
    "#### 4 - Exibir um campo específico"
   ]
  },
  {
   "cell_type": "code",
   "execution_count": 72,
   "metadata": {},
   "outputs": [
    {
     "name": "stdout",
     "output_type": "stream",
     "text": [
      "Nome: Lucas\n"
     ]
    }
   ],
   "source": [
    "def exibe_campo(dic):\n",
    "    dic = { \n",
    "        \"1 - Nome.....:\" : \"Lucas\",\n",
    "        \"2 - Idade....:\" :19,\n",
    "        \"3 - Cidade...:\" : \"Juquitiba\"\n",
    "    }\n",
    "    campo_exbido = int(input(\"Digite o campo que deseja exibir:\"))\n",
    "    match campo_exbido:\n",
    "        case 1:\n",
    "            print(f\"Nome: {dic['1 - Nome.....:']}\")\n",
    "        case 2:\n",
    "            print(f\"Idade: {dic['2 - Idade....:']}\")\n",
    "        case 3:\n",
    "            print(f\"Cidade: {dic['3 - Cidade...:']}\")\n",
    "        case _:\n",
    "            print(\"Esse campo não existe.\")\n",
    "\n",
    "exibe_campo(dic)"
   ]
  }
 ],
 "metadata": {
  "kernelspec": {
   "display_name": "Python 3",
   "language": "python",
   "name": "python3"
  },
  "language_info": {
   "codemirror_mode": {
    "name": "ipython",
    "version": 3
   },
   "file_extension": ".py",
   "mimetype": "text/x-python",
   "name": "python",
   "nbconvert_exporter": "python",
   "pygments_lexer": "ipython3",
   "version": "3.11.4"
  },
  "orig_nbformat": 4
 },
 "nbformat": 4,
 "nbformat_minor": 2
}
